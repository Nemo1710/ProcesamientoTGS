{
 "cells": [
  {
   "cell_type": "code",
   "execution_count": 1,
   "metadata": {
    "collapsed": false,
    "deletable": true,
    "editable": true,
    "scrolled": true
   },
   "outputs": [
    {
     "name": "stdout",
     "output_type": "stream",
     "text": [
      "0\n",
      "Ingrese el numero del experimento70\n",
      "4800\n",
      "Experimiento concluido\n"
     ]
    }
   ],
   "source": [
    "import serial\n",
    "import MySQLdb\n",
    "import time\n",
    "import matplotlib.pyplot as plt\n",
    "import matplotlib.animation as animation\n",
    "from matplotlib import style\n",
    "\n",
    "style.use('fivethirtyeight')\n",
    "\n",
    "fig=plt.figure()\n",
    "\n",
    "\n",
    "\n",
    "#returns ms since the epoch\n",
    "def millis():\n",
    "        return time.time() * 1000\n",
    "\n",
    "\n",
    "ser = serial.Serial('/dev/ttyACM0', 115200)\n",
    "\n",
    "actual=millis()\n",
    "ser.write(\"a\");\n",
    "ser.write(\"a\");\n",
    "ser.write(\"a\");\n",
    "ser.write(\"a\");\n",
    "ser.write(\"a\");\n",
    "j=0\n",
    "time.sleep(4)\n",
    "    \n",
    "    \n",
    "print str(j)\n",
    "db = MySQLdb.connect(\"localhost\", \"root\", \"root\", \"experimientos\")\n",
    "curs=db.cursor()\n",
    "actual=millis()\n",
    "global a\n",
    "a=input(\"Ingrese el numero del experimento\")\n",
    "ser.flushInput()\n",
    "ser.write(\"b\");\n",
    "ser.write(\"b\");\n",
    "ser.write(\"b\");\n",
    "j=1\n",
    "\n",
    "\n",
    "time.sleep(1)\n",
    "\n",
    "\n",
    "# while actual+5000>millis():\n",
    "#24000 muestras para 4 min de experimento\n",
    "while j<4800:\n",
    "\tx=ser.readline()\n",
    "# \tprint x\n",
    "\ts=x.split(\",\")\n",
    "\tif len(s)==4:\n",
    "\t\tcurs.execute(\"INSERT INTO ejemplo values(\"+str(a)+','+str(j)+\",\"+s[0]+\",\"+s[1]+\",\"+s[2]+\",\"+s[3]+\")\")\n",
    "\t\tdb.commit()\n",
    "\t\tj=j+1        \n",
    "print str(j)\n",
    "print \"Experimiento concluido\"\n",
    "xs=[]\n",
    "ys=[]\n",
    "db1 = MySQLdb.connect(\"localhost\", \"root\", \"root\", \"experimientos\")\n",
    "curs1=db1.cursor()\n",
    "sql = \"SELECT * FROM ejemplo where experimento=\"+str(a)+\" order by num asc \"\n",
    " \n",
    "#try:\n",
    "    # Execute the SQL command\n",
    " #   curs1.execute(sql)\n",
    "    # Fetch all the rows in a list of lists.\n",
    "  #  results = curs1.fetchall()\n",
    "   # for row in results:\n",
    "    #    num = row[1]\n",
    "     #   xs.append(num)\n",
    "      #  s1 = row[3]\n",
    "       # ys.append(s1)\n",
    "            \n",
    "#except:\n",
    "#    print \"Error: unable to fecth data\"\n",
    "#plt.plot(ys)\n",
    "#plt.ylabel('some numbers')\n",
    "#plt.show()"
   ]
  },
  {
   "cell_type": "markdown",
   "metadata": {
    "collapsed": true,
    "deletable": true,
    "editable": true
   },
   "source": []
  },
  {
   "cell_type": "code",
   "execution_count": null,
   "metadata": {
    "collapsed": true,
    "deletable": true,
    "editable": true
   },
   "outputs": [],
   "source": []
  },
  {
   "cell_type": "code",
   "execution_count": null,
   "metadata": {
    "collapsed": true,
    "deletable": true,
    "editable": true
   },
   "outputs": [],
   "source": []
  }
 ],
 "metadata": {
  "kernelspec": {
   "display_name": "Python 2",
   "language": "python",
   "name": "python2"
  },
  "language_info": {
   "codemirror_mode": {
    "name": "ipython",
    "version": 2
   },
   "file_extension": ".py",
   "mimetype": "text/x-python",
   "name": "python",
   "nbconvert_exporter": "python",
   "pygments_lexer": "ipython2",
   "version": "2.7.9"
  }
 },
 "nbformat": 4,
 "nbformat_minor": 2
}
